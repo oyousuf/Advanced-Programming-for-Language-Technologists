{
 "cells": [
  {
   "cell_type": "code",
   "execution_count": 27,
   "id": "imperial-surprise",
   "metadata": {},
   "outputs": [
    {
     "name": "stdout",
     "output_type": "stream",
     "text": [
      "Token\tfreq\tprob\n"
     ]
    }
   ],
   "source": [
    "from spacy.lang.en import stop_words, English\n",
    "\n",
    "nlp = English()\n",
    "\n",
    "#trout file\n",
    "with open('trout.txt') as trout_file:\n",
    "    raw_text = trout_file.read().lower()\n",
    "#add stopwords to nlp's defined stop word vocabulary\n",
    "with open('stopwords.txt') as stopwords_file:\n",
    "    lines = stopwords_file.read().split()\n",
    "    #print(lines)\n",
    "    for word in lines:\n",
    "        term = nlp.vocab[word]\n",
    "        term.is_stop = True\n",
    "    \n",
    "tokenizer = nlp.tokenizer\n",
    "doc = nlp(raw_text)\n",
    "tokenized_words = [tok.text for tok in doc if tok.is_stop==False if tok.is_alpha]\n",
    "# tokenized_words\n",
    "\n",
    "from collections import defaultdict\n",
    "r = defaultdict(int)\n",
    "for token in tokenized_words:\n",
    "    r[token] += 1\n",
    "\n",
    "values = r.values()\n",
    "#Return values of a dictionary    \n",
    "total = sum(values)\n",
    "print(\"Token\\tfreq\\tprob\")\n",
    "\n",
    "with open('trout_a.txt', 'w') as file:\n",
    "    file.write(\"Token\\tfreq\\tprob\\n\")\n",
    "    for key, value in r.items():\n",
    "        prob = value/total\n",
    "        file.write(f\"{key}\\t{value}\\t{prob}\\n\")\n"
   ]
  },
  {
   "cell_type": "code",
   "execution_count": null,
   "id": "synthetic-fortune",
   "metadata": {},
   "outputs": [],
   "source": []
  },
  {
   "cell_type": "code",
   "execution_count": null,
   "id": "smart-diamond",
   "metadata": {},
   "outputs": [],
   "source": []
  }
 ],
 "metadata": {
  "kernelspec": {
   "display_name": "Python 3",
   "language": "python",
   "name": "python3"
  },
  "language_info": {
   "codemirror_mode": {
    "name": "ipython",
    "version": 3
   },
   "file_extension": ".py",
   "mimetype": "text/x-python",
   "name": "python",
   "nbconvert_exporter": "python",
   "pygments_lexer": "ipython3",
   "version": "3.7.10"
  }
 },
 "nbformat": 4,
 "nbformat_minor": 5
}
